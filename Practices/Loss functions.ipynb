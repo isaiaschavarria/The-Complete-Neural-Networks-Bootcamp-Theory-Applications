{
 "cells": [
  {
   "cell_type": "code",
   "execution_count": 13,
   "metadata": {},
   "outputs": [
    {
     "name": "stdout",
     "output_type": "stream",
     "text": [
      "tensor(2.9806)\n",
      "labels tensor([[0., 1., 1., 1., 1.],\n",
      "        [0., 0., 0., 0., 0.],\n",
      "        [0., 1., 1., 0., 1.],\n",
      "        [1., 1., 0., 0., 0.]])\n",
      "BCELoss\n",
      "tensor(0.7873)\n",
      "BCEWithLogitsLoss\n",
      "tensor(0.7873)\n",
      "PYTHON CALCULATED  0.7873110737624425\n"
     ]
    }
   ],
   "source": [
    "import torch\n",
    "import torch.nn as nn\n",
    "import numpy as np\n",
    "\n",
    "prediction = torch.randn(4,5)\n",
    "\n",
    "labels = torch.randn(4,5)\n",
    "#MSE\n",
    "#mse = nn.MSELoss(reduction='none') #none, mean, sum\n",
    "mse = nn.MSELoss(reduction='mean')\n",
    "\n",
    "loss = mse(prediction, labels)\n",
    "\n",
    "print(loss)\n",
    "\n",
    "#Pure python\n",
    "((prediction-labels)**2).mean()\n",
    "\n",
    "\n",
    "#BCELoss  Binary Cross entropy Loss\n",
    "\n",
    "labels = torch.zeros(4,5).random_(0,2)\n",
    "print(\"labels\", labels)\n",
    "\n",
    "print(\"BCELoss\")\n",
    "sigmoid = nn.Sigmoid()\n",
    "bce = nn.BCELoss(reduction='mean')\n",
    "print(bce(sigmoid(prediction), labels))\n",
    "\n",
    "print(\"BCEWithLogitsLoss\")\n",
    "bces = nn.BCEWithLogitsLoss(reduction='mean')\n",
    "print(bces(prediction, labels))\n",
    "\n",
    "#Pure python () IMPLEMENTATION\n",
    "def sigmoid(x):\n",
    "    return 1 / (1 + np.exp(-x))\n",
    "\n",
    "x = prediction = prediction.numpy()\n",
    "y = labels.numpy()\n",
    "\n",
    "x = sigmoid(x)\n",
    "\n",
    "loss_values = []\n",
    "for i in range(len(y)):\n",
    "    batch_loss = []\n",
    "    for j in range(len(y[0])):\n",
    "        if y[i][j] == 1:\n",
    "            loss= -np.log(x[i][j])\n",
    "        else:\n",
    "            loss = -np.log(1-x[i][j])\n",
    "        batch_loss.append(loss) # type: ignore\n",
    "    loss_values.append(batch_loss)\n",
    "print(\"PYTHON CALCULATED BCE\", np.mean(loss_values))"
   ]
  }
 ],
 "metadata": {
  "kernelspec": {
   "display_name": "Python 3",
   "language": "python",
   "name": "python3"
  },
  "language_info": {
   "codemirror_mode": {
    "name": "ipython",
    "version": 3
   },
   "file_extension": ".py",
   "mimetype": "text/x-python",
   "name": "python",
   "nbconvert_exporter": "python",
   "pygments_lexer": "ipython3",
   "version": "3.11.4"
  }
 },
 "nbformat": 4,
 "nbformat_minor": 2
}
