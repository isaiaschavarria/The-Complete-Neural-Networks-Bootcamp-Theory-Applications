{
 "cells": [
  {
   "cell_type": "code",
   "execution_count": 8,
   "metadata": {},
   "outputs": [
    {
     "name": "stdout",
     "output_type": "stream",
     "text": [
      "Parameter containing:\n",
      "tensor([[ 0.4451, -0.1490, -0.1313,  0.1989,  0.4040],\n",
      "        [-0.1652, -0.0869, -0.1109,  0.1376, -0.3376],\n",
      "        [ 0.1665,  0.2896,  0.3344, -0.2596,  0.3618],\n",
      "        [ 0.1180, -0.1405,  0.0140, -0.0428, -0.0244],\n",
      "        [ 0.0334, -0.3557, -0.0804,  0.3417, -0.4186]], requires_grad=True)\n",
      "tensor([[ 0.4451, -0.1490, -0.1313,  0.1989,  0.4040],\n",
      "        [-0.1652, -0.0869, -0.1109,  0.1376, -0.3376],\n",
      "        [ 0.1665,  0.2896,  0.3344, -0.2596,  0.3618],\n",
      "        [ 0.1180, -0.1405,  0.0140, -0.0428, -0.0244],\n",
      "        [ 0.0334, -0.3557, -0.0804,  0.3417, -0.4186]])\n",
      "Parameter containing:\n",
      "tensor([[2.5107, 0.1454, 1.9047, 2.4047, 2.8111],\n",
      "        [1.6401, 1.8038, 0.8205, 1.3802, 0.3408],\n",
      "        [2.5029, 2.3855, 1.4831, 2.2198, 0.5582],\n",
      "        [0.6413, 0.1658, 0.9401, 1.8071, 2.3207],\n",
      "        [2.3399, 2.1331, 2.7440, 0.8707, 0.7147]], requires_grad=True)\n",
      "Parameter containing:\n",
      "tensor([[-0.1767,  0.1455, -0.2772, -0.1425, -0.2235],\n",
      "        [ 0.0525, -0.1868,  0.1276, -0.0638,  0.0212],\n",
      "        [ 0.0007, -0.0927,  0.0366, -0.1202,  0.1630],\n",
      "        [ 0.1121,  0.0584,  0.3156, -0.2342, -0.4269],\n",
      "        [ 0.0221,  0.1607, -0.3725, -0.0218, -0.2809]], requires_grad=True)\n",
      "Parameter containing:\n",
      "tensor([0., 0., 0., 0., 0.], requires_grad=True)\n"
     ]
    }
   ],
   "source": [
    "import torch\n",
    "import torch.nn as nn\n",
    "\n",
    "layer = nn.Linear(5,5)\n",
    "\n",
    "print(layer.weight)\n",
    "print(layer.weight.data)\n",
    "\n",
    "nn.init.uniform_(layer.weight, a=0, b=3)\n",
    "print(layer.weight)\n",
    "\n",
    "#ini with normal distribution\n",
    "nn.init.normal_(layer.weight, mean=0.0, std=0.2)\n",
    "print(layer.weight)\n",
    "\n",
    "#Constant value\n",
    "nn.init.constant_(layer.bias, val=0)\n",
    "print(layer.bias)"
   ]
  }
 ],
 "metadata": {
  "kernelspec": {
   "display_name": "Python 3",
   "language": "python",
   "name": "python3"
  },
  "language_info": {
   "codemirror_mode": {
    "name": "ipython",
    "version": 3
   },
   "file_extension": ".py",
   "mimetype": "text/x-python",
   "name": "python",
   "nbconvert_exporter": "python",
   "pygments_lexer": "ipython3",
   "version": "3.11.4"
  }
 },
 "nbformat": 4,
 "nbformat_minor": 2
}
