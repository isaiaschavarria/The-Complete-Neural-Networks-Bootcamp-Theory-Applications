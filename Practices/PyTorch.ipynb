{
 "cells": [
  {
   "cell_type": "code",
   "execution_count": 2,
   "metadata": {},
   "outputs": [
    {
     "name": "stdout",
     "output_type": "stream",
     "text": [
      "tensor([[1., 1., 1., 1., 1.],\n",
      "        [1., 1., 1., 1., 1.],\n",
      "        [1., 1., 1., 1., 1.],\n",
      "        [1., 1., 1., 1., 1.],\n",
      "        [1., 1., 1., 1., 1.]], requires_grad=True)\n"
     ]
    }
   ],
   "source": [
    "import torch\n",
    "import torchvision\n",
    "\n",
    "torch.cuda.is_available()\n",
    "\n",
    "array = torch.ones(5,5, requires_grad=True)\n",
    "\n",
    "print(array)"
   ]
  },
  {
   "cell_type": "code",
   "execution_count": 11,
   "metadata": {},
   "outputs": [
    {
     "name": "stdout",
     "output_type": "stream",
     "text": [
      "tensor([[ 2,  2,  1],\n",
      "        [ 3,  4,  5],\n",
      "        [ 6,  7,  8],\n",
      "        [ 9, 10, 11]])\n",
      "torch.Size([4, 3])\n",
      "torch.Size([4, 3])\n",
      "4\n"
     ]
    }
   ],
   "source": [
    "import torch\n",
    "\n",
    "a = torch.tensor([[2,2,1], [3,4,5], [6,7,8], [9,10,11]])\n",
    "\n",
    "print(a)\n",
    "print(a.shape)\n",
    "print(a.size())\n",
    "\n",
    "print(a.shape[0])"
   ]
  },
  {
   "cell_type": "markdown",
   "metadata": {},
   "source": [
    "#Reshape the tensor dimension"
   ]
  },
  {
   "cell_type": "code",
   "execution_count": 15,
   "metadata": {},
   "outputs": [
    {
     "name": "stdout",
     "output_type": "stream",
     "text": [
      "tensor([[ 2],\n",
      "        [ 2],\n",
      "        [ 1],\n",
      "        [ 3],\n",
      "        [ 4],\n",
      "        [ 5],\n",
      "        [ 6],\n",
      "        [ 7],\n",
      "        [ 8],\n",
      "        [ 9],\n",
      "        [10],\n",
      "        [11]])\n",
      "tensor([[ 2],\n",
      "        [ 2],\n",
      "        [ 1],\n",
      "        [ 3],\n",
      "        [ 4],\n",
      "        [ 5],\n",
      "        [ 6],\n",
      "        [ 7],\n",
      "        [ 8],\n",
      "        [ 9],\n",
      "        [10],\n",
      "        [11]])\n"
     ]
    }
   ],
   "source": [
    "print(a.view(-1,1))\n",
    "\n",
    "print(a.view(12, 1))"
   ]
  },
  {
   "cell_type": "code",
   "execution_count": 18,
   "metadata": {},
   "outputs": [
    {
     "name": "stdout",
     "output_type": "stream",
     "text": [
      "tensor([[[ 0.8578, -0.7121,  1.3837,  0.9031],\n",
      "         [-0.1250, -1.3077,  0.0886,  0.7294],\n",
      "         [-1.0383, -0.6319,  0.4481, -0.7103]],\n",
      "\n",
      "        [[ 0.7626,  1.0005,  0.5008, -0.6153],\n",
      "         [ 0.1151,  0.9174, -0.1730,  0.9374],\n",
      "         [ 0.5885, -0.0120,  0.2810,  0.9674]]])\n",
      "\n",
      "******************************\n",
      "\n",
      "tensor([[ 0.8578, -0.7121,  1.3837,  0.9031, -0.1250, -1.3077,  0.0886,  0.7294,\n",
      "         -1.0383, -0.6319,  0.4481, -0.7103],\n",
      "        [ 0.7626,  1.0005,  0.5008, -0.6153,  0.1151,  0.9174, -0.1730,  0.9374,\n",
      "          0.5885, -0.0120,  0.2810,  0.9674]])\n",
      "\n",
      "******************************\n",
      "\n",
      "tensor([[ 0.8578, -0.7121,  1.3837,  0.9031, -0.1250, -1.3077,  0.0886,  0.7294,\n",
      "         -1.0383, -0.6319,  0.4481, -0.7103],\n",
      "        [ 0.7626,  1.0005,  0.5008, -0.6153,  0.1151,  0.9174, -0.1730,  0.9374,\n",
      "          0.5885, -0.0120,  0.2810,  0.9674]])\n"
     ]
    }
   ],
   "source": [
    "#3D tensors (channels, rows, columns)\n",
    "\n",
    "three_dim = torch.randn(2,3,4)\n",
    "print(three_dim)\n",
    "print(\"\\n******************************\\n\")\n",
    "print(three_dim.view(2, 12))\n",
    "print(\"\\n******************************\\n\")\n",
    "print(three_dim.view(2, -1))\n",
    "\n"
   ]
  },
  {
   "cell_type": "code",
   "execution_count": 20,
   "metadata": {},
   "outputs": [
    {
     "name": "stdout",
     "output_type": "stream",
     "text": [
      "tensor([[0.1002, 0.6578, 0.6423, 0.8285],\n",
      "        [0.2666, 0.6869, 0.0666, 0.7031],\n",
      "        [0.9933, 0.6408, 0.1023, 0.5333],\n",
      "        [0.0381, 0.6088, 0.8807, 0.4147]])\n",
      "torch.float32\n"
     ]
    }
   ],
   "source": [
    "#matrix with random numbers between 0 and 1\n",
    "matrix = torch.rand(4,4)\n",
    "print(matrix)\n",
    "print(matrix.dtype)"
   ]
  },
  {
   "cell_type": "markdown",
   "metadata": {},
   "source": [
    "##Numpy Bridge"
   ]
  },
  {
   "cell_type": "code",
   "execution_count": 22,
   "metadata": {},
   "outputs": [
    {
     "ename": "ModuleNotFoundError",
     "evalue": "No module named 'r2'",
     "output_type": "error",
     "traceback": [
      "\u001b[1;31m---------------------------------------------------------------------------\u001b[0m",
      "\u001b[1;31mModuleNotFoundError\u001b[0m                       Traceback (most recent call last)",
      "Cell \u001b[1;32mIn[22], line 1\u001b[0m\n\u001b[1;32m----> 1\u001b[0m \u001b[38;5;28;01mimport\u001b[39;00m \u001b[38;5;21;01mr2\u001b[39;00m\n\u001b[0;32m      3\u001b[0m \u001b[38;5;66;03m# move tensor to GPU\u001b[39;00m\n\u001b[0;32m      4\u001b[0m r2 \u001b[38;5;241m=\u001b[39m r2\u001b[38;5;241m.\u001b[39mcuda()\n",
      "\u001b[1;31mModuleNotFoundError\u001b[0m: No module named 'r2'"
     ]
    }
   ],
   "source": [
    "import numpy\n",
    "\n",
    "# move tensor to GPU\n",
    "#r2 = r2.cuda()\n",
    "\n",
    "CUDA = torch.cuda.is_available()\n",
    "if CUDA:\n",
    "    add_result = add_result.cuda()\n",
    "    print(add_result)"
   ]
  }
 ],
 "metadata": {
  "kernelspec": {
   "display_name": "Python 3",
   "language": "python",
   "name": "python3"
  },
  "language_info": {
   "codemirror_mode": {
    "name": "ipython",
    "version": 3
   },
   "file_extension": ".py",
   "mimetype": "text/x-python",
   "name": "python",
   "nbconvert_exporter": "python",
   "pygments_lexer": "ipython3",
   "version": "3.11.4"
  }
 },
 "nbformat": 4,
 "nbformat_minor": 2
}
